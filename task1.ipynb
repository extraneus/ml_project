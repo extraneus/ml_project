{
  "nbformat": 4,
  "nbformat_minor": 0,
  "metadata": {
    "colab": {
      "provenance": []
    },
    "kernelspec": {
      "name": "python3",
      "display_name": "Python 3"
    },
    "language_info": {
      "name": "python"
    }
  },
  "cells": [
    {
      "cell_type": "markdown",
      "source": [
        "# **Exercise Problem & Lab Report part : 1**\n"
      ],
      "metadata": {
        "id": "lM8Q4xhC62Yz"
      }
    },
    {
      "cell_type": "code",
      "source": [
        "student = {}\n",
        "number_student = int(input(\"Enter the number of students: \"))\n",
        "\n",
        "for i in range(number_student):\n",
        "    print('Enter student name:')\n",
        "    name = input()\n",
        "    marks = []\n",
        "    for j in range(3):\n",
        "        mark = float(input(f\"Enter marks for subject {j+1}: \"))\n",
        "        marks.append(mark)\n",
        "    student[name] = marks\n",
        "\n",
        "for name, marks in student.items():\n",
        "    total_marks = sum(marks)\n",
        "    average_marks = total_marks / len(marks)\n",
        "    print(f\"{name}'s average marks: {average_marks}\")"
      ],
      "metadata": {
        "colab": {
          "base_uri": "https://localhost:8080/"
        },
        "id": "FSfJ9VHX7Bxa",
        "outputId": "734c1040-badd-4d0d-d357-b3e8733b5c7b"
      },
      "execution_count": null,
      "outputs": [
        {
          "output_type": "stream",
          "name": "stdout",
          "text": [
            "Enter the number of students: 1\n",
            "Enter student name:\n",
            "akash\n",
            "Enter marks for subject 1: 18\n",
            "Enter marks for subject 2: 22\n",
            "Enter marks for subject 3: 21\n",
            "akash's average marks: 20.333333333333332\n"
          ]
        }
      ]
    },
    {
      "cell_type": "markdown",
      "source": [
        "**List Operations**: Implement a function that takes a list of numbers and returns a new list with only even numbers sorted in descending order"
      ],
      "metadata": {
        "id": "j4VjhQ8pFBIz"
      }
    },
    {
      "cell_type": "code",
      "source": [
        "def new_li(lis):\n",
        "    new_lis = [i for i in lis if i % 2 == 0]\n",
        "    new_lis.sort(reverse=True)\n",
        "    return new_lis\n",
        "\n",
        "lis = []\n",
        "n = int(input(\"Enter the number of elements: \"))\n",
        "\n",
        "for i in range(n):\n",
        "    num = int(input(f\"Enter number {i+1}: \"))\n",
        "    lis.append(num)\n",
        "\n",
        "ne_li = new_li(lis)\n",
        "print(\"Sorted even numbers in descending order:\", ne_li)\n"
      ],
      "metadata": {
        "colab": {
          "base_uri": "https://localhost:8080/"
        },
        "id": "v-MRXM7SFHqS",
        "outputId": "51116e96-5a12-4aa1-99b9-1f02bf360265"
      },
      "execution_count": null,
      "outputs": [
        {
          "output_type": "stream",
          "name": "stdout",
          "text": [
            "Enter the number of elements: 3\n",
            "Enter number 1: 26\n",
            "Enter number 2: 25\n",
            "Enter number 3: 10\n",
            "Sorted even numbers in descending order: [26, 10]\n"
          ]
        }
      ]
    },
    {
      "cell_type": "markdown",
      "source": [
        "**Word Frequency Counter**: Write a Python function that takes a string as input and returns a dictionary where keys are words and values are their frequencies."
      ],
      "metadata": {
        "id": "qQ5sQusWVaWm"
      }
    },
    {
      "cell_type": "code",
      "source": [
        "import string\n",
        "def word_frequency(text):\n",
        "    text = text.translate(str.maketrans('', '', string.punctuation)).lower()\n",
        "    words = text.split()\n",
        "\n",
        "    word_freq = {}\n",
        "    for word in words:\n",
        "        word_freq[word] = word_freq.get(word, 0) + 1\n",
        "\n",
        "    return word_freq\n",
        "text = input(\"Enter the text: \")\n",
        "print(word_frequency(text))\n"
      ],
      "metadata": {
        "colab": {
          "base_uri": "https://localhost:8080/"
        },
        "id": "cYN7Dq1TVenm",
        "outputId": "f825cfa8-b36f-4661-8d12-e1d678cbd737"
      },
      "execution_count": null,
      "outputs": [
        {
          "output_type": "stream",
          "name": "stdout",
          "text": [
            "Enter the text: i am akash. i am 2\n",
            "{'i': 2, 'am': 2, 'akash': 1, '2': 1}\n"
          ]
        }
      ]
    },
    {
      "cell_type": "markdown",
      "source": [
        "**Matrix Addition using Function**s: Implement a Python function to take two matrices as lists of lists and return their sum."
      ],
      "metadata": {
        "id": "_57v586mlSL4"
      }
    },
    {
      "cell_type": "code",
      "source": [
        "def matrix_addition(matrix1, matrix2):\n",
        "    result = []\n",
        "    for i in range(len(matrix1)):\n",
        "        row = []\n",
        "        for j in range(len(matrix1[0])):\n",
        "            row.append(matrix1[i][j] + matrix2[i][j])\n",
        "        result.append(row)\n",
        "\n",
        "    return result\n",
        "\n",
        "matrix1 = [[1, 2, 3], [4, 5, 6], [7, 8, 9]]\n",
        "matrix2 = [[9, 8, 7], [6, 5, 4], [3, 2, 1]]\n",
        "\n",
        "sum_matrix = matrix_addition(matrix1, matrix2)\n",
        "for row in sum_matrix:\n",
        "    print(row)\n"
      ],
      "metadata": {
        "colab": {
          "base_uri": "https://localhost:8080/"
        },
        "id": "FnuvZ0JYlXfn",
        "outputId": "6ef5a99f-b8cd-4144-c3aa-fae71a4418cb"
      },
      "execution_count": null,
      "outputs": [
        {
          "output_type": "stream",
          "name": "stdout",
          "text": [
            "[10, 10, 10]\n",
            "[10, 10, 10]\n",
            "[10, 10, 10]\n"
          ]
        }
      ]
    },
    {
      "cell_type": "markdown",
      "source": [
        "**Recursive Factorial Calculation**: Write a recursive function to calculate the factorial of a given number.Recursive Factorial Calculation: Write a recursive function to calculate the factorial of a given number."
      ],
      "metadata": {
        "id": "IGadXFbqBgDK"
      }
    },
    {
      "cell_type": "code",
      "source": [
        "def factorial(n):\n",
        "    if n < 0:\n",
        "        raise ValueError(\"Factorial is not defined for negative numbers\")\n",
        "    if n == 0 or n == 1:\n",
        "        return 1\n",
        "    return n * factorial(n - 1)\n",
        "\n",
        "num = int(input(\"Enter a number: \"))\n",
        "print(f\"Factorial of {num} is {factorial(num)}\")\n"
      ],
      "metadata": {
        "id": "O-mDtNQLmx1X",
        "colab": {
          "base_uri": "https://localhost:8080/"
        },
        "outputId": "b597bf6b-eb06-4a5e-83fb-b2cc24bdb74b"
      },
      "execution_count": null,
      "outputs": [
        {
          "output_type": "stream",
          "name": "stdout",
          "text": [
            "Enter a number: 5\n",
            "Factorial of 5 is 120\n"
          ]
        }
      ]
    },
    {
      "cell_type": "code",
      "source": [],
      "metadata": {
        "id": "2BKlGIp_Bbib"
      },
      "execution_count": null,
      "outputs": []
    }
  ]
}